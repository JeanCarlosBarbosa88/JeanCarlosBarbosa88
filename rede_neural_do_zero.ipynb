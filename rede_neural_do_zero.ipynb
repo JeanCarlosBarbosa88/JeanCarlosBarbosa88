{
  "nbformat": 4,
  "nbformat_minor": 0,
  "metadata": {
    "colab": {
      "provenance": [],
      "toc_visible": true,
      "authorship_tag": "ABX9TyOBS684c1OuU35eaGqyS683",
      "include_colab_link": true
    },
    "kernelspec": {
      "name": "python3",
      "display_name": "Python 3"
    },
    "language_info": {
      "name": "python"
    }
  },
  "cells": [
    {
      "cell_type": "markdown",
      "metadata": {
        "id": "view-in-github",
        "colab_type": "text"
      },
      "source": [
        "<a href=\"https://colab.research.google.com/github/JeanCarlosBarbosa88/JeanCarlosBarbosa88/blob/main/rede_neural_do_zero.ipynb\" target=\"_parent\"><img src=\"https://colab.research.google.com/assets/colab-badge.svg\" alt=\"Open In Colab\"/></a>"
      ]
    },
    {
      "cell_type": "code",
      "source": [
        "import numpy as np\n",
        "import torch\n",
        "import torch.nn.functional as F\n",
        "import torchvision\n",
        "import matplotlib.pyplot as plt\n",
        "import tensorflow_datasets as tfds\n",
        "import tensorflow as tf # Import tensorflow\n",
        "from time import time\n",
        "from torchvision import datasets, transforms\n",
        "from torch import nn, optim\n",
        "from torch.autograd import Variable\n",
        "from torch.utils.data.sampler import SubsetRandomSampler"
      ],
      "metadata": {
        "id": "dvxk-FNucy3l"
      },
      "execution_count": null,
      "outputs": []
    },
    {
      "cell_type": "code",
      "source": [
        "transform = transforms.ToTensor()\n",
        "trainset = datasets.MNIST('./MNIST_data/', download=True, train=True, transform=transform)\n",
        "trainloader = torch.utils.data.DataLoader(trainset, batch_size=64, shuffle=True)\n",
        "\n",
        "valset = datasets.MNIST('./MNIST_data/', download=True, train=False, transform=transform)\n",
        "valloader = torch.utils.data.DataLoader(valset, batch_size=64, shuffle=True)"
      ],
      "metadata": {
        "id": "wYy9MKCxevi6"
      },
      "execution_count": null,
      "outputs": []
    },
    {
      "cell_type": "code",
      "source": [
        "dataiter = iter(trainloader)\n",
        "images, etiquetas = next(dataiter)  # Change dataiter.next() to next(dataiter)\n",
        "plt.imshow(images[0].numpy().squeeze(), cmap='gray_r')"
      ],
      "metadata": {
        "id": "pC9do5mmf9pC"
      },
      "execution_count": null,
      "outputs": []
    },
    {
      "cell_type": "code",
      "source": [
        "print (images[0].shape)#para verificar as dimensão do tensor de cada imagem\n",
        "print (etiquetas[0].shape)#para verificar as dimensões do tensor de cada etiqueta"
      ],
      "metadata": {
        "id": "CarVS2dWiT1B"
      },
      "execution_count": null,
      "outputs": []
    },
    {
      "source": [
        "class Modelo(nn.Module):\n",
        "    def __init__(self):\n",
        "        super(Modelo, self).__init__()# camada de entrada, 784 neurônios que se ligam a 128\n",
        "        self.linear1 = nn.Linear(28*28, 128)# camada interna 1, 128 neurônios que se ligam a 64\n",
        "        self.linear2 = nn.Linear(128, 64)# camada interna 2, 64 neurônios que se ligam a 10\n",
        "        self.linear3 = nn.Linear(64, 10)#camada interna 2, 64 neurônios que se ligam a 10\n",
        "        #para camada de saida não e necessário definir nada pois só precisamos pegar o output da camada interna 2\n",
        "\n",
        "    def forward(self, x): # Ensure this line is indented at the same level as __init__\n",
        "        x = F.relu(self.linear1(x))# função de ativiaçãoda camada de entrada para camada interna 1\n",
        "        x = F.relu(self.linear2(x))# função de ativiaçãoda camada de entrada para camada interna 2\n",
        "        x = self.linear3(x)#função de ativação da camada interna 2 para camada de saida, nesse caso f(x)=x\n",
        "        return F.log_softmax(x, dim=1)#dados utilizados para calcular a perda"
      ],
      "cell_type": "code",
      "metadata": {
        "id": "HBCQj5HomMIT"
      },
      "execution_count": null,
      "outputs": []
    },
    {
      "cell_type": "code",
      "source": [
        "def treino(modelo, trainloader, device):\n",
        "    otimizador = optim.SGD(modelo.parameters(), lr=0.01, momentum=0.5)#otimizador\n",
        "    inicio = time()\n",
        "    criterio = nn.NLLLoss()#criterio de perda\n",
        "    EPOCHS = 10\n",
        "    modelo.train()\n",
        "\n",
        "    for epoch in range(EPOCHS):\n",
        "        perda_acumulada = 0.0\n",
        "        for images, etiquetas in trainloader:\n",
        "\n",
        "            images = images.view(images.shape[0], -1)\n",
        "            otimizador.zero_grad()\n",
        "            output = modelo(images.to(device))\n",
        "            perda_instantanea = criterio(output, etiquetas.to(device))\n",
        "            perda_instantanea.backward()\n",
        "            otimizador.step()\n",
        "            perda_acumulada += perda_instantanea.item()\n",
        "\n",
        "        else:\n",
        "            print(\"Treino: Epoch {} - Perda Computada (média): {}\".format(epoch+1, perda_acumulada/len(trainloader)))\n",
        "            print(\"\\n Tempo de treino (em minutos) = \", (time()-inicio)/60)\n"
      ],
      "metadata": {
        "id": "03uBh_WMmhF1"
      },
      "execution_count": null,
      "outputs": []
    },
    {
      "cell_type": "code",
      "source": [
        "def validacao(modelo, valloader, device):\n",
        "  conta_corretas, conta_todas = 0, 0\n",
        "  for images, etiquetas in valloader:\n",
        "      for i in range(len(etiquetas)):\n",
        "        img = images[i].view(1, 784)\n",
        "        # desativar o autoarmazenamento\n",
        "        with torch.no_grad():\n",
        "            logps = modelo(img.to(device))\n",
        "        ps = torch.exp(logps)\n",
        "        probab = list(ps.cpu().numpy()[0])\n",
        "        etiqueta_pred = probab.index(max(probab))\n",
        "        etiqueta_certa = etiquetas.numpy()[i]\n",
        "        if(etiqueta_certa == etiqueta_pred):\n",
        "            conta_corretas += 1\n",
        "            conta_todas += 1\n",
        "  print(\"Total de imagens testadas= {}/{}\".format(conta_corretas, conta_todas))\n",
        "  print(\"\\nPrecisão do modelo = {}%\".format(100 * conta_corretas / conta_todas))"
      ],
      "metadata": {
        "id": "d0o2sS_4opiz"
      },
      "execution_count": null,
      "outputs": []
    },
    {
      "cell_type": "code",
      "source": [
        "modelo = Modelo()\n",
        "device = torch.device(\"cuda\" if torch.cuda.is_available() else \"cpu\")\n",
        "modelo.to(device)\n",
        "treino(modelo, trainloader, device)\n",
        "validacao(modelo, valloader, device)"
      ],
      "metadata": {
        "id": "yacP3wIKqSO2"
      },
      "execution_count": null,
      "outputs": []
    },
    {
      "cell_type": "markdown",
      "source": [
        "# Nova seção"
      ],
      "metadata": {
        "id": "ro3P0xXqbuX2"
      }
    },
    {
      "cell_type": "code",
      "source": [
        "import torch\n",
        "import torch.nn as nn\n",
        "import torch.optim as optim\n",
        "import torch.nn.functional as F\n",
        "import torchvision\n",
        "from torchvision import datasets, transforms\n",
        "import matplotlib.pyplot as plt\n",
        "from time import time\n",
        "from PIL import Image\n",
        "import numpy as np\n",
        "\n",
        "# Definindo a transformação (pré-processamento dos dados)\n",
        "transform = transforms.Compose([transforms.ToTensor(), transforms.Normalize((0.5,), (0.5,))])\n",
        "\n",
        "# Carregando os dados de treino e validação do MNIST\n",
        "trainset = datasets.MNIST('./MNIST_data/', download=True, train=True, transform=transform)\n",
        "trainloader = torch.utils.data.DataLoader(trainset, batch_size=64, shuffle=True)\n",
        "\n",
        "valset = datasets.MNIST('./MNIST_data/', download=True, train=False, transform=transform)\n",
        "valloader = torch.utils.data.DataLoader(valset, batch_size=64, shuffle=False)\n",
        "\n",
        "# Visualizando uma imagem de exemplo\n",
        "dataiter = iter(trainloader)\n",
        "images, labels = next(dataiter)\n",
        "plt.imshow(images[0].numpy().squeeze(), cmap='gray_r')\n",
        "plt.show()\n",
        "\n",
        "print(f'Tamanho da imagem: {images[0].shape}')  # Verificando as dimensões\n",
        "\n",
        "# Definindo o Modelo da Rede Neural (modelo simples de 3 camadas)\n",
        "class Modelo(nn.Module):\n",
        "    def __init__(self):\n",
        "        super(Modelo, self).__init__()\n",
        "        self.linear1 = nn.Linear(28*28, 128)  # Primeira camada\n",
        "        self.linear2 = nn.Linear(128, 64)     # Segunda camada\n",
        "        self.linear3 = nn.Linear(64, 10)      # Camada de saída (10 classes)\n",
        "\n",
        "    def forward(self, x):\n",
        "        x = x.view(-1, 28*28)  # Achata as imagens para 1D\n",
        "        x = F.relu(self.linear1(x))  # Função ReLU após a primeira camada\n",
        "        x = F.relu(self.linear2(x))  # Função ReLU após a segunda camada\n",
        "        x = self.linear3(x)  # Saída final sem ativação, pois vamos usar log_softmax\n",
        "        return F.log_softmax(x, dim=1)  # log_softmax para calcular a probabilidade\n",
        "\n",
        "# Função de treinamento\n",
        "def treino(modelo, trainloader, device):\n",
        "    otimizador = optim.SGD(modelo.parameters(), lr=0.01, momentum=0.5)\n",
        "    criterio = nn.NLLLoss()  # Função de perda de log-likelihood\n",
        "    EPOCHS = 6\n",
        "    modelo.train()\n",
        "\n",
        "    inicio = time()\n",
        "\n",
        "    for epoch in range(EPOCHS):\n",
        "        perda_acumulada = 0.0\n",
        "        for images, labels in trainloader:\n",
        "            images, labels = images.to(device), labels.to(device)\n",
        "            otimizador.zero_grad()\n",
        "            output = modelo(images)\n",
        "            perda = criterio(output, labels)\n",
        "            perda.backward()\n",
        "            otimizador.step()\n",
        "            perda_acumulada += perda.item()\n",
        "\n",
        "        print(f\"Epoch {epoch+1}, Perda média: {perda_acumulada/len(trainloader):.4f}\")\n",
        "\n",
        "    print(f'Tempo de treino: {(time()-inicio)/60:.2f} minutos')\n",
        "\n",
        "# Função de validação\n",
        "def validacao(modelo, valloader, device):\n",
        "    modelo.eval()  # Coloca o modelo em modo de avaliação\n",
        "    correct = 0\n",
        "    total = 0\n",
        "    with torch.no_grad():  # Desabilita o cálculo de gradientes para a avaliação\n",
        "        for images, labels in valloader:\n",
        "            images, labels = images.to(device), labels.to(device)\n",
        "            output = modelo(images)\n",
        "            _, predicted = torch.max(output, 1)  # Obtém a classe com maior probabilidade\n",
        "            total += labels.size(0)\n",
        "            correct += (predicted == labels).sum().item()\n",
        "\n",
        "    print(f'Precisão no conjunto de validação: {100 * correct / total:.2f}%')\n",
        "\n",
        "#Função para carregar e processar imagem\n",
        "def carregar_imagem (imagem_path):\n",
        "  img = Image.open(imagem_path).convert('L')#converte para escala de cinza\n",
        "  transform = transforms.Compose([\n",
        "      transforms.Resize((28, 28)),   #redimensiona para 28x28 pixels\n",
        "      transforms.ToTensor(),       #converte para tensor\n",
        "      transforms.Normalize((0.5,), (0.5,))  #normalizção do MNIST\n",
        "  ])\n",
        "  img_tensor = transform(img)\n",
        "  img_tensor = img_tensor.unsqueeze(0)\n",
        "  return img_tensor\n",
        "\n",
        "#função para revisão\n",
        "def prever_imagem(modelo, imagem_tensor, device):\n",
        "  imagem_tensor = carregar_imagem(imagem_path)\n",
        "  imagem_tensor = imagem_tensor.to(device)\n",
        "\n",
        "  modelo.eval() # coloca em avaliação o modelo\n",
        "  with torch.no_grad():\n",
        "    output = modelo(imagem_tensor)\n",
        "    _, predicted = torch.max(output, 1)\n",
        "    print(f'A imagem é prevista como: {predicted.item()}')\n",
        "\n",
        "    #exibição da imagem\n",
        "    img = image.open('/content/bases-20240704T183510Z-001.zip').convert('L')\n",
        "    plt.imshow(img, cmap='gray')\n",
        "    plt.title(f'Predição: {predicted.item()}')\n",
        "    plt.show()\n",
        "\n",
        "modelo = Modelo\n",
        "\n",
        "# Definindo o dispositivo (GPU ou CPU)\n",
        "device = torch.device(\"cuda\" if torch.cuda.is_available() else \"cpu\")\n",
        "modelo = Modelo().to(device)\n",
        "\n",
        "# Chamando as funções de treinamento e validação\n",
        "treino(modelo, trainloader, device)\n",
        "validacao(modelo, valloader, device)\n",
        "\n",
        "#testar nova imagem\n",
        "imagem_path = '/content/bases-20240704T183510Z-001.zip'\n",
        "prever_imagem(modelo, imagem_path, device)"
      ],
      "metadata": {
        "colab": {
          "base_uri": "https://localhost:8080/",
          "height": 891
        },
        "id": "9OZCqUlZGmUH",
        "outputId": "0d687d86-d2be-4b50-cb95-0e130d5ad289"
      },
      "execution_count": null,
      "outputs": [
        {
          "output_type": "display_data",
          "data": {
            "text/plain": [
              "<Figure size 640x480 with 1 Axes>"
            ],
            "image/png": "[encoded data removed]"
          },
          "metadata": {}
        },
        {
          "output_type": "stream",
          "name": "stdout",
          "text": [
            "Tamanho da imagem: torch.Size([1, 28, 28])\n",
            "Epoch 1, Perda média: 0.7097\n",
            "Epoch 2, Perda média: 0.3152\n",
            "Epoch 3, Perda média: 0.2611\n",
            "Epoch 4, Perda média: 0.2227\n",
            "Epoch 5, Perda média: 0.1908\n",
            "Epoch 6, Perda média: 0.1655\n",
            "Tempo de treino: 1.82 minutos\n",
            "Precisão no conjunto de validação: 94.80%\n"
          ]
        },
        {
          "output_type": "error",
          "ename": "UnidentifiedImageError",
          "evalue": "cannot identify image file '/content/bases-20240704T183510Z-001.zip'",
          "traceback": [
            "\u001b[0;31m---------------------------------------------------------------------------\u001b[0m",
            "\u001b[0;31mUnidentifiedImageError\u001b[0m                    Traceback (most recent call last)",
            "\u001b[0;32m<ipython-input-84-8977cdc4ac31>\u001b[0m in \u001b[0;36m<cell line: 125>\u001b[0;34m()\u001b[0m\n\u001b[1;32m    123\u001b[0m \u001b[0;31m#testar nova imagem\u001b[0m\u001b[0;34m\u001b[0m\u001b[0;34m\u001b[0m\u001b[0m\n\u001b[1;32m    124\u001b[0m \u001b[0mimagem_path\u001b[0m \u001b[0;34m=\u001b[0m \u001b[0;34m'/content/bases-20240704T183510Z-001.zip'\u001b[0m\u001b[0;34m\u001b[0m\u001b[0;34m\u001b[0m\u001b[0m\n\u001b[0;32m--> 125\u001b[0;31m \u001b[0mprever_imagem\u001b[0m\u001b[0;34m(\u001b[0m\u001b[0mmodelo\u001b[0m\u001b[0;34m,\u001b[0m \u001b[0mimagem_path\u001b[0m\u001b[0;34m,\u001b[0m \u001b[0mdevice\u001b[0m\u001b[0;34m)\u001b[0m\u001b[0;34m\u001b[0m\u001b[0;34m\u001b[0m\u001b[0m\n\u001b[0m",
            "\u001b[0;32m<ipython-input-84-8977cdc4ac31>\u001b[0m in \u001b[0;36mprever_imagem\u001b[0;34m(modelo, imagem_tensor, device)\u001b[0m\n\u001b[1;32m     96\u001b[0m \u001b[0;31m#função para revisão\u001b[0m\u001b[0;34m\u001b[0m\u001b[0;34m\u001b[0m\u001b[0m\n\u001b[1;32m     97\u001b[0m \u001b[0;32mdef\u001b[0m \u001b[0mprever_imagem\u001b[0m\u001b[0;34m(\u001b[0m\u001b[0mmodelo\u001b[0m\u001b[0;34m,\u001b[0m \u001b[0mimagem_tensor\u001b[0m\u001b[0;34m,\u001b[0m \u001b[0mdevice\u001b[0m\u001b[0;34m)\u001b[0m\u001b[0;34m:\u001b[0m\u001b[0;34m\u001b[0m\u001b[0;34m\u001b[0m\u001b[0m\n\u001b[0;32m---> 98\u001b[0;31m   \u001b[0mimagem_tensor\u001b[0m \u001b[0;34m=\u001b[0m \u001b[0mcarregar_imagem\u001b[0m\u001b[0;34m(\u001b[0m\u001b[0mimagem_path\u001b[0m\u001b[0;34m)\u001b[0m\u001b[0;34m\u001b[0m\u001b[0;34m\u001b[0m\u001b[0m\n\u001b[0m\u001b[1;32m     99\u001b[0m   \u001b[0mimagem_tensor\u001b[0m \u001b[0;34m=\u001b[0m \u001b[0mimagem_tensor\u001b[0m\u001b[0;34m.\u001b[0m\u001b[0mto\u001b[0m\u001b[0;34m(\u001b[0m\u001b[0mdevice\u001b[0m\u001b[0;34m)\u001b[0m\u001b[0;34m\u001b[0m\u001b[0;34m\u001b[0m\u001b[0m\n\u001b[1;32m    100\u001b[0m \u001b[0;34m\u001b[0m\u001b[0m\n",
            "\u001b[0;32m<ipython-input-84-8977cdc4ac31>\u001b[0m in \u001b[0;36mcarregar_imagem\u001b[0;34m(imagem_path)\u001b[0m\n\u001b[1;32m     84\u001b[0m \u001b[0;31m#Função para carregar e processar imagem\u001b[0m\u001b[0;34m\u001b[0m\u001b[0;34m\u001b[0m\u001b[0m\n\u001b[1;32m     85\u001b[0m \u001b[0;32mdef\u001b[0m \u001b[0mcarregar_imagem\u001b[0m \u001b[0;34m(\u001b[0m\u001b[0mimagem_path\u001b[0m\u001b[0;34m)\u001b[0m\u001b[0;34m:\u001b[0m\u001b[0;34m\u001b[0m\u001b[0;34m\u001b[0m\u001b[0m\n\u001b[0;32m---> 86\u001b[0;31m   \u001b[0mimg\u001b[0m \u001b[0;34m=\u001b[0m \u001b[0mImage\u001b[0m\u001b[0;34m.\u001b[0m\u001b[0mopen\u001b[0m\u001b[0;34m(\u001b[0m\u001b[0mimagem_path\u001b[0m\u001b[0;34m)\u001b[0m\u001b[0;34m.\u001b[0m\u001b[0mconvert\u001b[0m\u001b[0;34m(\u001b[0m\u001b[0;34m'L'\u001b[0m\u001b[0;34m)\u001b[0m\u001b[0;31m#converte para escala de cinza\u001b[0m\u001b[0;34m\u001b[0m\u001b[0;34m\u001b[0m\u001b[0m\n\u001b[0m\u001b[1;32m     87\u001b[0m   transform = transforms.Compose([\n\u001b[1;32m     88\u001b[0m       \u001b[0mtransforms\u001b[0m\u001b[0;34m.\u001b[0m\u001b[0mResize\u001b[0m\u001b[0;34m(\u001b[0m\u001b[0;34m(\u001b[0m\u001b[0;36m28\u001b[0m\u001b[0;34m,\u001b[0m \u001b[0;36m28\u001b[0m\u001b[0;34m)\u001b[0m\u001b[0;34m)\u001b[0m\u001b[0;34m,\u001b[0m   \u001b[0;31m#redimensiona para 28x28 pixels\u001b[0m\u001b[0;34m\u001b[0m\u001b[0;34m\u001b[0m\u001b[0m\n",
            "\u001b[0;32m/usr/local/lib/python3.10/dist-packages/PIL/Image.py\u001b[0m in \u001b[0;36mopen\u001b[0;34m(fp, mode, formats)\u001b[0m\n\u001b[1;32m   3534\u001b[0m         \u001b[0mwarnings\u001b[0m\u001b[0;34m.\u001b[0m\u001b[0mwarn\u001b[0m\u001b[0;34m(\u001b[0m\u001b[0mmessage\u001b[0m\u001b[0;34m)\u001b[0m\u001b[0;34m\u001b[0m\u001b[0;34m\u001b[0m\u001b[0m\n\u001b[1;32m   3535\u001b[0m     \u001b[0mmsg\u001b[0m \u001b[0;34m=\u001b[0m \u001b[0;34m\"cannot identify image file %r\"\u001b[0m \u001b[0;34m%\u001b[0m \u001b[0;34m(\u001b[0m\u001b[0mfilename\u001b[0m \u001b[0;32mif\u001b[0m \u001b[0mfilename\u001b[0m \u001b[0;32melse\u001b[0m \u001b[0mfp\u001b[0m\u001b[0;34m)\u001b[0m\u001b[0;34m\u001b[0m\u001b[0;34m\u001b[0m\u001b[0m\n\u001b[0;32m-> 3536\u001b[0;31m     \u001b[0;32mraise\u001b[0m \u001b[0mUnidentifiedImageError\u001b[0m\u001b[0;34m(\u001b[0m\u001b[0mmsg\u001b[0m\u001b[0;34m)\u001b[0m\u001b[0;34m\u001b[0m\u001b[0;34m\u001b[0m\u001b[0m\n\u001b[0m\u001b[1;32m   3537\u001b[0m \u001b[0;34m\u001b[0m\u001b[0m\n\u001b[1;32m   3538\u001b[0m \u001b[0;34m\u001b[0m\u001b[0m\n",
            "\u001b[0;31mUnidentifiedImageError\u001b[0m: cannot identify image file '/content/bases-20240704T183510Z-001.zip'"
          ]
        }
      ]
    },
    {
      "cell_type": "code",
      "source": [
        "transform = transforms.Compose([transforms.ToTensor(), transforms.Normalize((0.5,), (0.5,))])\n"
      ],
      "metadata": {
        "id": "R5bBprTSIA7P"
      },
      "execution_count": null,
      "outputs": []
    },
    {
      "cell_type": "code",
      "source": [
        "transforms.Normalize((0.5, 0.5, 0.5), (0.5, 0.5, 0.5))  # Para 3 canais (RGB)\n"
      ],
      "metadata": {
        "id": "hfSQBU_UcQV4"
      },
      "execution_count": null,
      "outputs": []
    },
    {
      "cell_type": "code",
      "source": [
        "class CNN_Model(nn.Module):\n",
        "    def __init__(self):\n",
        "        super(CNN_Model, self).__init__()\n",
        "        self.conv1 = nn.Conv2d(1, 32, kernel_size=3, stride=1, padding=1)\n",
        "        self.conv2 = nn.Conv2d(32, 64, kernel_size=3, stride=1, padding=1)\n",
        "        self.fc1 = nn.Linear(7*7*64, 128)  # Aqui o número depende da imagem após convolução\n",
        "        self.fc2 = nn.Linear(128, 10)\n",
        "\n",
        "    def forward(self, x):\n",
        "        x = F.relu(self.conv1(x))\n",
        "        x = F.relu(self.conv2(x))\n",
        "        x = F.max_pool2d(x, 2)\n",
        "        x = x.view(-1, 7*7*64)  # Flattening\n",
        "        x = F.relu(self.fc1(x))\n",
        "        x = self.fc2(x)\n",
        "        return F.log_softmax(x, dim=1)\n"
      ],
      "metadata": {
        "id": "XZzBwHxXcSYp"
      },
      "execution_count": null,
      "outputs": []
    },
    {
      "cell_type": "code",
      "source": [
        "trainset = datasets.MNIST('./MNIST_data/', download=True, train=True, transform=transform)\n"
      ],
      "metadata": {
        "id": "g5TPvIlOcUg6"
      },
      "execution_count": null,
      "outputs": []
    },
    {
      "cell_type": "code",
      "source": [
        "trainset = datasets.CIFAR10(root='./data', train=True, download=True, transform=transform)"
      ],
      "metadata": {
        "id": "ujpq3UYXcXQZ"
      },
      "execution_count": null,
      "outputs": []
    },
    {
      "cell_type": "code",
      "source": [
        "otimizador = optim.Adam(modelo.parameters(), lr=0.001)"
      ],
      "metadata": {
        "id": "ISXDd3JOcacD"
      },
      "execution_count": null,
      "outputs": []
    },
    {
      "cell_type": "code",
      "source": [
        "criterio = nn.CrossEntropyLoss()  # Para problemas com múltiplas classes"
      ],
      "metadata": {
        "id": "F3aWRcVFccii"
      },
      "execution_count": null,
      "outputs": []
    },
    {
      "cell_type": "code",
      "source": [
        "EPOCHS = 10  # Altere o número conforme necessário"
      ],
      "metadata": {
        "id": "GO-wUbzncklD"
      },
      "execution_count": null,
      "outputs": []
    },
    {
      "cell_type": "code",
      "source": [],
      "metadata": {
        "id": "h0JZwbAGki12"
      },
      "execution_count": null,
      "outputs": []
    }
  ]
}