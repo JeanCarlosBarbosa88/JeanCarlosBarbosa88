{
  "nbformat": 4,
  "nbformat_minor": 0,
  "metadata": {
    "colab": {
      "provenance": [],
      "authorship_tag": "ABX9TyPTJmFscwMU7HH3x6jLg2E+",
      "include_colab_link": true
    },
    "kernelspec": {
      "name": "python3",
      "display_name": "Python 3"
    },
    "language_info": {
      "name": "python"
    }
  },
  "cells": [
    {
      "cell_type": "markdown",
      "metadata": {
        "id": "view-in-github",
        "colab_type": "text"
      },
      "source": [
        "<a href=\"https://colab.research.google.com/github/JeanCarlosBarbosa88/JeanCarlosBarbosa88/blob/main/Rede_neuraL_Do_Zero.ipynb\" target=\"_parent\"><img src=\"https://colab.research.google.com/assets/colab-badge.svg\" alt=\"Open In Colab\"/></a>"
      ]
    },
    {
      "cell_type": "code",
      "source": [
        "import numpy as np\n",
        "import torch\n",
        "import torch.nn.functional as F\n",
        "import torchvision\n",
        "import matplotlib.pyplot as plt\n",
        "import tensorflow_datasets as tfds\n",
        "import tensorflow as tf # Import tensorflow\n",
        "from time import time\n",
        "from torchvision import datasets, transforms\n",
        "from torch import nn, optim\n",
        "from torch.autograd import Variable\n",
        "from torch.utils.data.sampler import SubsetRandomSampler"
      ],
      "metadata": {
        "id": "dvxk-FNucy3l"
      },
      "execution_count": 1,
      "outputs": []
    },
    {
      "cell_type": "code",
      "source": [
        "transform = transforms.ToTensor()\n",
        "trainset = datasets.MNIST('./MNIST_data/', download=True, train=True, transform=transform)\n",
        "trainloader = torch.utils.data.DataLoader(trainset, batch_size=64, shuffle=True)\n",
        "\n",
        "valset = datasets.MNIST('./MNIST_data/', download=True, train=False, transform=transform)\n",
        "valloader = torch.utils.data.DataLoader(valset, batch_size=64, shuffle=True)"
      ],
      "metadata": {
        "id": "wYy9MKCxevi6",
        "colab": {
          "base_uri": "https://localhost:8080/"
        },
        "outputId": "1f44ed0e-a7e7-4577-b540-d5213d261795"
      },
      "execution_count": 2,
      "outputs": [
        {
          "output_type": "stream",
          "name": "stdout",
          "text": [
            "Downloading http://yann.lecun.com/exdb/mnist/train-images-idx3-ubyte.gz\n",
            "Failed to download (trying next):\n",
            "HTTP Error 403: Forbidden\n",
            "\n",
            "Downloading https://ossci-datasets.s3.amazonaws.com/mnist/train-images-idx3-ubyte.gz\n",
            "Downloading https://ossci-datasets.s3.amazonaws.com/mnist/train-images-idx3-ubyte.gz to ./MNIST_data/MNIST/raw/train-images-idx3-ubyte.gz\n"
          ]
        },
        {
          "output_type": "stream",
          "name": "stderr",
          "text": [
            "100%|██████████| 9.91M/9.91M [00:00<00:00, 54.8MB/s]\n"
          ]
        },
        {
          "output_type": "stream",
          "name": "stdout",
          "text": [
            "Extracting ./MNIST_data/MNIST/raw/train-images-idx3-ubyte.gz to ./MNIST_data/MNIST/raw\n",
            "\n",
            "Downloading http://yann.lecun.com/exdb/mnist/train-labels-idx1-ubyte.gz\n",
            "Failed to download (trying next):\n",
            "HTTP Error 403: Forbidden\n",
            "\n",
            "Downloading https://ossci-datasets.s3.amazonaws.com/mnist/train-labels-idx1-ubyte.gz\n",
            "Downloading https://ossci-datasets.s3.amazonaws.com/mnist/train-labels-idx1-ubyte.gz to ./MNIST_data/MNIST/raw/train-labels-idx1-ubyte.gz\n"
          ]
        },
        {
          "output_type": "stream",
          "name": "stderr",
          "text": [
            "100%|██████████| 28.9k/28.9k [00:00<00:00, 1.86MB/s]"
          ]
        },
        {
          "output_type": "stream",
          "name": "stdout",
          "text": [
            "Extracting ./MNIST_data/MNIST/raw/train-labels-idx1-ubyte.gz to ./MNIST_data/MNIST/raw\n",
            "\n",
            "Downloading http://yann.lecun.com/exdb/mnist/t10k-images-idx3-ubyte.gz\n"
          ]
        },
        {
          "output_type": "stream",
          "name": "stderr",
          "text": [
            "\n"
          ]
        },
        {
          "output_type": "stream",
          "name": "stdout",
          "text": [
            "Failed to download (trying next):\n",
            "HTTP Error 403: Forbidden\n",
            "\n",
            "Downloading https://ossci-datasets.s3.amazonaws.com/mnist/t10k-images-idx3-ubyte.gz\n",
            "Downloading https://ossci-datasets.s3.amazonaws.com/mnist/t10k-images-idx3-ubyte.gz to ./MNIST_data/MNIST/raw/t10k-images-idx3-ubyte.gz\n"
          ]
        },
        {
          "output_type": "stream",
          "name": "stderr",
          "text": [
            "100%|██████████| 1.65M/1.65M [00:00<00:00, 14.8MB/s]\n"
          ]
        },
        {
          "output_type": "stream",
          "name": "stdout",
          "text": [
            "Extracting ./MNIST_data/MNIST/raw/t10k-images-idx3-ubyte.gz to ./MNIST_data/MNIST/raw\n",
            "\n",
            "Downloading http://yann.lecun.com/exdb/mnist/t10k-labels-idx1-ubyte.gz\n",
            "Failed to download (trying next):\n",
            "HTTP Error 403: Forbidden\n",
            "\n",
            "Downloading https://ossci-datasets.s3.amazonaws.com/mnist/t10k-labels-idx1-ubyte.gz\n",
            "Downloading https://ossci-datasets.s3.amazonaws.com/mnist/t10k-labels-idx1-ubyte.gz to ./MNIST_data/MNIST/raw/t10k-labels-idx1-ubyte.gz\n"
          ]
        },
        {
          "output_type": "stream",
          "name": "stderr",
          "text": [
            "100%|██████████| 4.54k/4.54k [00:00<00:00, 3.11MB/s]"
          ]
        },
        {
          "output_type": "stream",
          "name": "stdout",
          "text": [
            "Extracting ./MNIST_data/MNIST/raw/t10k-labels-idx1-ubyte.gz to ./MNIST_data/MNIST/raw\n",
            "\n"
          ]
        },
        {
          "output_type": "stream",
          "name": "stderr",
          "text": [
            "\n"
          ]
        }
      ]
    },
    {
      "cell_type": "code",
      "source": [
        "dataiter = iter(trainloader)\n",
        "images, etiquetas = next(dataiter)  # Change dataiter.next() to next(dataiter)\n",
        "plt.imshow(images[0].numpy().squeeze(), cmap='gray_r')"
      ],
      "metadata": {
        "colab": {
          "base_uri": "https://localhost:8080/",
          "height": 447
        },
        "id": "pC9do5mmf9pC",
        "outputId": "1016196b-8ce4-4dbe-c155-9c97dfb32d7a"
      },
      "execution_count": 3,
      "outputs": [
        {
          "output_type": "execute_result",
          "data": {
            "text/plain": [
              "<matplotlib.image.AxesImage at 0x7e743e0bdcc0>"
            ]
          },
          "metadata": {},
          "execution_count": 3
        },
        {
          "output_type": "display_data",
          "data": {
            "text/plain": [
              "<Figure size 640x480 with 1 Axes>"
            ],
            "image/png": "[encoded data removed]"
          },
          "metadata": {}
        }
      ]
    },
    {
      "cell_type": "code",
      "source": [
        "print (images[0].shape)#para verificar as dimensão do tensor de cada imagem\n",
        "print (etiquetas[0].shape)#para verificar as dimensões do tensor de cada etiqueta"
      ],
      "metadata": {
        "colab": {
          "base_uri": "https://localhost:8080/"
        },
        "id": "CarVS2dWiT1B",
        "outputId": "012b35fd-1756-4cb2-ee55-2c495cd0b2f4"
      },
      "execution_count": 4,
      "outputs": [
        {
          "output_type": "stream",
          "name": "stdout",
          "text": [
            "torch.Size([1, 28, 28])\n",
            "torch.Size([])\n"
          ]
        }
      ]
    },
    {
      "source": [
        "class Modelo(nn.Module):\n",
        "    def __init__(self):\n",
        "        super(Modelo, self).__init__()# camada de entrada, 784 neurônios que se ligam a 128\n",
        "        self.linear1 = nn.Linear(28*28, 128)# camada interna 1, 128 neurônios que se ligam a 64\n",
        "        self.linear2 = nn.Linear(128, 64)# camada interna 2, 64 neurônios que se ligam a 10\n",
        "        self.linear3 = nn.Linear(64, 10)#camada interna 2, 64 neurônios que se ligam a 10\n",
        "        #para camada de saida não e necessário definir nada pois só precisamos pegar o output da camada interna 2\n",
        "\n",
        "    def forward(self, x): # Ensure this line is indented at the same level as __init__\n",
        "        x = F.relu(self.linear1(x))# função de ativiaçãoda camada de entrada para camada interna 1\n",
        "        x = F.relu(self.linear2(x))# função de ativiaçãoda camada de entrada para camada interna 2\n",
        "        x = self.linear3(x)#função de ativação da camada interna 2 para camada de saida, nesse caso f(x)=x\n",
        "        return F.log_softmax(x, dim=1)#dados utilizados para calcular a perda"
      ],
      "cell_type": "code",
      "metadata": {
        "id": "HBCQj5HomMIT"
      },
      "execution_count": 5,
      "outputs": []
    },
    {
      "cell_type": "code",
      "source": [
        "def treino(modelo, trainloader, device):\n",
        "    otimizador = optim.SGD(modelo.parameters(), lr=0.01, momentum=0.5)#otimizador\n",
        "    inicio = time()\n",
        "    criterio = nn.NLLLoss()#criterio de perda\n",
        "    EPOCHS = 10\n",
        "    modelo.train()\n",
        "\n",
        "    for epoch in range(EPOCHS):\n",
        "        perda_acumulada = 0.0\n",
        "        for images, etiquetas in trainloader:\n",
        "\n",
        "            images = images.view(images.shape[0], -1)\n",
        "            otimizador.zero_grad()\n",
        "            output = modelo(images.to(device))\n",
        "            perda_instantanea = criterio(output, etiquetas.to(device))\n",
        "            perda_instantanea.backward()\n",
        "            otimizador.step()\n",
        "            perda_acumulada += perda_instantanea.item()\n",
        "\n",
        "        else:\n",
        "            print(\"Treino: Epoch {} - Perda Computada (média): {}\".format(epoch+1, perda_acumulada/len(trainloader)))\n",
        "            print(\"\\n Tempo de treino (em minutos) = \", (time()-inicio)/60)\n"
      ],
      "metadata": {
        "id": "03uBh_WMmhF1"
      },
      "execution_count": 6,
      "outputs": []
    },
    {
      "cell_type": "code",
      "source": [
        "def validacao(modelo, valloader, device):\n",
        "  conta_corretas, conta_todas = 0, 0\n",
        "  for images, etiquetas in valloader:\n",
        "      for i in range(len(etiquetas)):\n",
        "        img = images[i].view(1, 784)\n",
        "        # desativar o autoarmazenamento\n",
        "        with torch.no_grad():\n",
        "            logps = modelo(img.to(device))\n",
        "        ps = torch.exp(logps)\n",
        "        probab = list(ps.cpu().numpy()[0])\n",
        "        etiqueta_pred = probab.index(max(probab))\n",
        "        etiqueta_certa = etiquetas.numpy()[i]\n",
        "        if(etiqueta_certa == etiqueta_pred):\n",
        "            conta_corretas += 1\n",
        "            conta_todas += 1\n",
        "  print(\"Total de imagens testadas= {}/{}\".format(conta_corretas, conta_todas))\n",
        "  print(\"\\nPrecisão do modelo = {}%\".format(100 * conta_corretas / conta_todas))"
      ],
      "metadata": {
        "id": "d0o2sS_4opiz"
      },
      "execution_count": 7,
      "outputs": []
    },
    {
      "cell_type": "code",
      "source": [
        "modelo = Modelo()\n",
        "device = torch.device(\"cuda\" if torch.cuda.is_available() else \"cpu\")\n",
        "modelo.to(device)\n",
        "treino(modelo, trainloader, device)\n",
        "validacao(modelo, valloader, device)"
      ],
      "metadata": {
        "colab": {
          "base_uri": "https://localhost:8080/"
        },
        "id": "yacP3wIKqSO2",
        "outputId": "b0468c15-0bad-4f75-d9e0-0713749c0836"
      },
      "execution_count": 8,
      "outputs": [
        {
          "output_type": "stream",
          "name": "stdout",
          "text": [
            "Treino: Epoch 1 - Perda Computada (média): 1.1449764407456302\n",
            "\n",
            " Tempo de treino (em minutos) =  0.18404698769251507\n",
            "Treino: Epoch 2 - Perda Computada (média): 0.3793458106405318\n",
            "\n",
            " Tempo de treino (em minutos) =  0.35003326336542767\n",
            "Treino: Epoch 3 - Perda Computada (média): 0.3099146953730314\n",
            "\n",
            " Tempo de treino (em minutos) =  0.5078118125597636\n",
            "Treino: Epoch 4 - Perda Computada (média): 0.268697079096331\n",
            "\n",
            " Tempo de treino (em minutos) =  0.659027083714803\n",
            "Treino: Epoch 5 - Perda Computada (média): 0.23743203248995454\n",
            "\n",
            " Tempo de treino (em minutos) =  0.8206746737162273\n",
            "Treino: Epoch 6 - Perda Computada (média): 0.21230210681189735\n",
            "\n",
            " Tempo de treino (em minutos) =  0.9820211211840312\n",
            "Treino: Epoch 7 - Perda Computada (média): 0.19163423439841282\n",
            "\n",
            " Tempo de treino (em minutos) =  1.130583143234253\n",
            "Treino: Epoch 8 - Perda Computada (média): 0.17374670347456994\n",
            "\n",
            " Tempo de treino (em minutos) =  1.2891189376513164\n",
            "Treino: Epoch 9 - Perda Computada (média): 0.15881554228164305\n",
            "\n",
            " Tempo de treino (em minutos) =  1.4675973614056905\n",
            "Treino: Epoch 10 - Perda Computada (média): 0.14580295967267776\n",
            "\n",
            " Tempo de treino (em minutos) =  1.6316654562950135\n",
            "Total de imagens testadas= 9569/9569\n",
            "\n",
            "Precisão do modelo = 100.0%\n"
          ]
        }
      ]
    },
    {
      "cell_type": "markdown",
      "source": [
        "# Nova seção"
      ],
      "metadata": {
        "id": "ro3P0xXqbuX2"
      }
    },
    {
      "cell_type": "markdown",
      "source": [],
      "metadata": {
        "id": "_E-gyR4JOqll"
      }
    },
    {
      "cell_type": "code",
      "source": [
        "import torch\n",
        "import torch.nn as nn\n",
        "import torch.optim as optim\n",
        "import torch.nn.functional as F\n",
        "import torchvision\n",
        "from torchvision import datasets, transforms\n",
        "import matplotlib.pyplot as plt\n",
        "from time import time\n",
        "\n",
        "# Definindo a transformação (pré-processamento dos dados)\n",
        "transform = transforms.Compose([transforms.ToTensor(), transforms.Normalize((0.5,), (0.5,))])\n",
        "\n",
        "# Carregando os dados de treino e validação do MNIST\n",
        "trainset = datasets.MNIST('./MNIST_data/', download=True, train=True, transform=transform)\n",
        "trainloader = torch.utils.data.DataLoader(trainset, batch_size=64, shuffle=True)\n",
        "\n",
        "valset = datasets.MNIST('./MNIST_data/', download=True, train=False, transform=transform)\n",
        "valloader = torch.utils.data.DataLoader(valset, batch_size=64, shuffle=False)\n",
        "\n",
        "# Visualizando uma imagem de exemplo\n",
        "dataiter = iter(trainloader)\n",
        "images, labels = next(dataiter)\n",
        "plt.imshow(images[0].numpy().squeeze(), cmap='gray_r')\n",
        "plt.show()\n",
        "\n",
        "print(f'Tamanho da imagem: {images[0].shape}')  # Verificando as dimensões\n",
        "\n",
        "# Definindo o Modelo da Rede Neural (modelo simples de 3 camadas)\n",
        "class Modelo(nn.Module):\n",
        "    def __init__(self):\n",
        "        super(Modelo, self).__init__()\n",
        "        self.linear1 = nn.Linear(28*28, 128)  # Primeira camada\n",
        "        self.linear2 = nn.Linear(128, 64)     # Segunda camada\n",
        "        self.linear3 = nn.Linear(64, 10)      # Camada de saída (10 classes)\n",
        "\n",
        "    def forward(self, x):\n",
        "        x = x.view(-1, 28*28)  # Achata as imagens para 1D\n",
        "        x = F.relu(self.linear1(x))  # Função ReLU após a primeira camada\n",
        "        x = F.relu(self.linear2(x))  # Função ReLU após a segunda camada\n",
        "        x = self.linear3(x)  # Saída final sem ativação, pois vamos usar log_softmax\n",
        "        return F.log_softmax(x, dim=1)  # log_softmax para calcular a probabilidade\n",
        "\n",
        "# Função de treinamento\n",
        "def treino(modelo, trainloader, device):\n",
        "    otimizador = optim.SGD(modelo.parameters(), lr=0.01, momentum=0.5)\n",
        "    criterio = nn.NLLLoss()  # Função de perda de log-likelihood\n",
        "    EPOCHS = 10\n",
        "    modelo.train()\n",
        "\n",
        "    inicio = time()\n",
        "\n",
        "    for epoch in range(EPOCHS):\n",
        "        perda_acumulada = 0.0\n",
        "        for images, labels in trainloader:\n",
        "            images, labels = images.to(device), labels.to(device)\n",
        "            otimizador.zero_grad()\n",
        "            output = modelo(images)\n",
        "            perda = criterio(output, labels)\n",
        "            perda.backward()\n",
        "            otimizador.step()\n",
        "            perda_acumulada += perda.item()\n",
        "\n",
        "        print(f\"Epoch {epoch+1}, Perda média: {perda_acumulada/len(trainloader):.4f}\")\n",
        "\n",
        "    print(f'Tempo de treino: {(time()-inicio)/60:.2f} minutos')\n",
        "\n",
        "# Função de validação\n",
        "def validacao(modelo, valloader, device):\n",
        "    modelo.eval()  # Coloca o modelo em modo de avaliação\n",
        "    correct = 0\n",
        "    total = 0\n",
        "    with torch.no_grad():  # Desabilita o cálculo de gradientes para a avaliação\n",
        "        for images, labels in valloader:\n",
        "            images, labels = images.to(device), labels.to(device)\n",
        "            output = modelo(images)\n",
        "            _, predicted = torch.max(output, 1)  # Obtém a classe com maior probabilidade\n",
        "            total += labels.size(0)\n",
        "            correct += (predicted == labels).sum().item()\n",
        "\n",
        "    print(f'Precisão no conjunto de validação: {100 * correct / total:.2f}%')\n",
        "\n",
        "#Função para carregar e processar imagem\n",
        "def carregar_imagem (imagem_path):\n",
        "  img = Image.open(imagem_path).convert('L')#converte para escala de cinza\n",
        "  transform = transforms.Compose([\n",
        "      transforms.Resize((28, 28)),   #redimensiona para 28x28 pixels\n",
        "      transforms.ToTensor(),       #converte para tensor\n",
        "      transforms.Normalize((0.5,), (0.5,))  #normalizção do MNIST\n",
        "  ])\n",
        "  img_tensor = transform(img)\n",
        "  img_tensor = img_tensor.unsqueeze(0)\n",
        "  return img_tensor\n",
        "\n",
        "#função para revisão\n",
        "def prever_imagem(modelo, imagem_tensor, device):\n",
        "  imagem_tensor = carregar_imagem(imagem_path)\n",
        "  imagem_tensor = imagem_tensor.to(device)\n",
        "\n",
        "  modelo.eval() # coloca em avaliação o modelo\n",
        "  with torch.no_grad():\n",
        "    output = modelo(imagem_tensor)\n",
        "    _, predicted = torch.max(output, 1)\n",
        "    print(f'A imagem é prevista como: {predicted.item()}')\n",
        "\n",
        "    #exibição da imagem\n",
        "    img = image.open(imagem_path).convert('L')\n",
        "    plt.imshow(img, cmap='gray')\n",
        "    plt.title(f'Predição: {predicted.item()}')\n",
        "    plt.show()\n",
        "\n",
        "modelo = Modelo\n",
        "\n",
        "# Definindo o dispositivo (GPU ou CPU)\n",
        "device = torch.device(\"cuda\" if torch.cuda.is_available() else \"cpu\")\n",
        "modelo = Modelo().to(device)\n",
        "\n",
        "# Chamando as funções de treinamento e validação\n",
        "treino(modelo, trainloader, device)\n",
        "validacao(modelo, valloader, device)\n",
        "\n",
        "#testar nova imagem\n",
        "imagem_path = 'jean.jpg'\n",
        "prever_imagem(modelo, imagem_path, device)"
      ],
      "metadata": {
        "colab": {
          "base_uri": "https://localhost:8080/",
          "height": 517
        },
        "id": "9OZCqUlZGmUH",
        "outputId": "6d61c603-0920-47a4-e884-c338b9d2604f"
      },
      "execution_count": null,
      "outputs": [
        {
          "output_type": "display_data",
          "data": {
            "text/plain": [
              "<Figure size 640x480 with 1 Axes>"
            ],
            "image/png": "[encoded data removed]"
          },
          "metadata": {}
        },
        {
          "output_type": "stream",
          "name": "stdout",
          "text": [
            "Tamanho da imagem: torch.Size([1, 28, 28])\n",
            "Epoch 1, Perda média: 0.7230\n",
            "Epoch 2, Perda média: 0.3139\n",
            "Epoch 3, Perda média: 0.2616\n",
            "Epoch 4, Perda média: 0.2223\n"
          ]
        }
      ]
    },
    {
      "cell_type": "code",
      "source": [
        "transform = transforms.Compose([transforms.ToTensor(), transforms.Normalize((0.5,), (0.5,))])\n"
      ],
      "metadata": {
        "id": "R5bBprTSIA7P"
      },
      "execution_count": 66,
      "outputs": []
    },
    {
      "cell_type": "code",
      "source": [
        "transforms.Normalize((0.5, 0.5, 0.5), (0.5, 0.5, 0.5))  # Para 3 canais (RGB)\n"
      ],
      "metadata": {
        "colab": {
          "base_uri": "https://localhost:8080/"
        },
        "id": "hfSQBU_UcQV4",
        "outputId": "99c92375-6c3b-4fa4-a41d-2fedf5a970dc"
      },
      "execution_count": 67,
      "outputs": [
        {
          "output_type": "execute_result",
          "data": {
            "text/plain": [
              "Normalize(mean=(0.5, 0.5, 0.5), std=(0.5, 0.5, 0.5))"
            ]
          },
          "metadata": {},
          "execution_count": 67
        }
      ]
    },
    {
      "cell_type": "code",
      "source": [
        "class CNN_Model(nn.Module):\n",
        "    def __init__(self):\n",
        "        super(CNN_Model, self).__init__()\n",
        "        self.conv1 = nn.Conv2d(1, 32, kernel_size=3, stride=1, padding=1)\n",
        "        self.conv2 = nn.Conv2d(32, 64, kernel_size=3, stride=1, padding=1)\n",
        "        self.fc1 = nn.Linear(7*7*64, 128)  # Aqui o número depende da imagem após convolução\n",
        "        self.fc2 = nn.Linear(128, 10)\n",
        "\n",
        "    def forward(self, x):\n",
        "        x = F.relu(self.conv1(x))\n",
        "        x = F.relu(self.conv2(x))\n",
        "        x = F.max_pool2d(x, 2)\n",
        "        x = x.view(-1, 7*7*64)  # Flattening\n",
        "        x = F.relu(self.fc1(x))\n",
        "        x = self.fc2(x)\n",
        "        return F.log_softmax(x, dim=1)\n"
      ],
      "metadata": {
        "id": "XZzBwHxXcSYp"
      },
      "execution_count": 68,
      "outputs": []
    },
    {
      "cell_type": "code",
      "source": [
        "trainset = datasets.MNIST('./MNIST_data/', download=True, train=True, transform=transform)\n"
      ],
      "metadata": {
        "id": "g5TPvIlOcUg6"
      },
      "execution_count": 69,
      "outputs": []
    },
    {
      "cell_type": "code",
      "source": [
        "trainset = datasets.CIFAR10(root='./data', train=True, download=True, transform=transform)"
      ],
      "metadata": {
        "colab": {
          "base_uri": "https://localhost:8080/"
        },
        "id": "ujpq3UYXcXQZ",
        "outputId": "30cb81d7-bb07-4163-fa9f-46d49ef758f2"
      },
      "execution_count": 70,
      "outputs": [
        {
          "output_type": "stream",
          "name": "stdout",
          "text": [
            "Downloading https://www.cs.toronto.edu/~kriz/cifar-10-python.tar.gz to ./data/cifar-10-python.tar.gz\n"
          ]
        },
        {
          "output_type": "stream",
          "name": "stderr",
          "text": [
            "100%|██████████| 170M/170M [00:02<00:00, 58.8MB/s]\n"
          ]
        },
        {
          "output_type": "stream",
          "name": "stdout",
          "text": [
            "Extracting ./data/cifar-10-python.tar.gz to ./data\n"
          ]
        }
      ]
    },
    {
      "cell_type": "code",
      "source": [
        "otimizador = optim.Adam(modelo.parameters(), lr=0.001)"
      ],
      "metadata": {
        "id": "ISXDd3JOcacD"
      },
      "execution_count": 71,
      "outputs": []
    },
    {
      "cell_type": "code",
      "source": [
        "criterio = nn.CrossEntropyLoss()  # Para problemas com múltiplas classes"
      ],
      "metadata": {
        "id": "F3aWRcVFccii"
      },
      "execution_count": 72,
      "outputs": []
    },
    {
      "cell_type": "code",
      "source": [
        "EPOCHS = 10  # Altere o número conforme necessário"
      ],
      "metadata": {
        "id": "GO-wUbzncklD"
      },
      "execution_count": 74,
      "outputs": []
    }
  ]
}